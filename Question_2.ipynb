{
 "cells": [
  {
   "cell_type": "markdown",
   "metadata": {},
   "source": [
    "# Ques. 2.  Alphabetical Sort"
   ]
  },
  {
   "cell_type": "markdown",
   "metadata": {},
   "source": [
    "***Imports:***"
   ]
  },
  {
   "cell_type": "code",
   "execution_count": 1,
   "metadata": {},
   "outputs": [],
   "source": [
    "import numpy as np\n",
    "import string"
   ]
  },
  {
   "cell_type": "markdown",
   "metadata": {},
   "source": [
    "# 1. Counting Sort implementation"
   ]
  },
  {
   "cell_type": "markdown",
   "metadata": {},
   "source": [
    "The next function **count_sort()** receives a list of INTEGERS, sorts this list according to counting sort algorithm, and returns a sorted list.\n",
    "\n",
    "**NOTE:** Counting sort can be applied only for integers.\n",
    "\n",
    "**Reference:** https://www.youtube.com/watch?v=7zuGmKfUt7s"
   ]
  },
  {
   "cell_type": "code",
   "execution_count": 2,
   "metadata": {},
   "outputs": [],
   "source": [
    "def count_sort(lst):\n",
    "    k=max(lst)\n",
    "    counts= np.zeros(k+1,int) #O(k+1)\n",
    "    sorted_lst= np.zeros(len(lst),int) #O(n)\n",
    "    \n",
    "    for i in lst: counts[i]+=1 #O(n)\n",
    "        \n",
    "    for i in range(k): counts[i+1]+=counts[i] #O(k)\n",
    "        \n",
    "    for i in lst:   #O(n)\n",
    "        sorted_lst[counts[i]-1]=i\n",
    "        counts[i]-=1\n",
    "    return sorted_lst"
   ]
  },
  {
   "cell_type": "code",
   "execution_count": 3,
   "metadata": {},
   "outputs": [
    {
     "name": "stdout",
     "output_type": "stream",
     "text": [
      "[1 1 2 2 4 5 7 7]\n"
     ]
    }
   ],
   "source": [
    "print(count_sort([ 1, 4, 1, 2, 7, 5, 2, 7 ]))"
   ]
  },
  {
   "cell_type": "markdown",
   "metadata": {},
   "source": [
    "**Complexity analysis**\\\n",
    "The initialization of the count array, and the second for loop which performs a prefix sum on the count array, each iterate at most k + 1 times and therefore take **O(k)** time. \\\n",
    "The other two for loops, and the initialization of the output array, each take **O(n)** time.\\\n",
    "Therefore, the time for the whole algorithm is the sum of the times for these steps, **O(n + k).**"
   ]
  },
  {
   "cell_type": "markdown",
   "metadata": {},
   "source": [
    "# 2. Alphabets Sort "
   ]
  },
  {
   "cell_type": "markdown",
   "metadata": {},
   "source": [
    "As counting sort is only applied for integers, in order to sort alphabets using this kind of sort we have to:\\\n",
    "**1-** Covert alphabets to integers. Using **char_position(letter)**\\\n",
    "**2-** Sort the integers. Using **count_sort(lst)**\\\n",
    "**3-** Convert integers back to alphabets. Using **pos_to_char(pos)**"
   ]
  },
  {
   "cell_type": "code",
   "execution_count": 4,
   "metadata": {},
   "outputs": [],
   "source": [
    "alphabets=list(string.ascii_lowercase)\n",
    "\n",
    "def char_position(letter):\n",
    "    if letter=='':return -1\n",
    "    return alphabets.index(letter)\n",
    "\n",
    "def pos_to_char(pos):\n",
    "    if(pos)==-1:return ''\n",
    "    return alphabets[pos]"
   ]
  },
  {
   "cell_type": "markdown",
   "metadata": {},
   "source": [
    "**NOTE** This method dosn't take into account upper case periority. If we need to take that into account, simply we have to create **alphabets** list as follow: ['A', 'a', 'B', 'b', 'C', 'c' ....] but n will be 52 instead of 26"
   ]
  },
  {
   "cell_type": "code",
   "execution_count": 5,
   "metadata": {},
   "outputs": [
    {
     "data": {
      "text/plain": [
       "23"
      ]
     },
     "execution_count": 5,
     "metadata": {},
     "output_type": "execute_result"
    }
   ],
   "source": [
    "char_position('x')"
   ]
  },
  {
   "cell_type": "code",
   "execution_count": 6,
   "metadata": {},
   "outputs": [
    {
     "data": {
      "text/plain": [
       "'x'"
      ]
     },
     "execution_count": 6,
     "metadata": {},
     "output_type": "execute_result"
    }
   ],
   "source": [
    "pos_to_char(23)"
   ]
  },
  {
   "cell_type": "markdown",
   "metadata": {},
   "source": [
    "The following **sort_alphabets()** function takes a list of letters in any order and returns it ordered"
   ]
  },
  {
   "cell_type": "code",
   "execution_count": 7,
   "metadata": {},
   "outputs": [],
   "source": [
    "def sort_alphabets(lst):\n",
    "    lst_idx=[]\n",
    "    for i in lst:\n",
    "        lst_idx.append(char_position(i.lower()))\n",
    "    out=count_sort(lst_idx)\n",
    "    return [pos_to_char(i) for i in out]"
   ]
  },
  {
   "cell_type": "code",
   "execution_count": 8,
   "metadata": {},
   "outputs": [
    {
     "name": "stdout",
     "output_type": "stream",
     "text": [
      "Sotred Alphabets:  ['a', 'b', 'c', 'd', 'e', 'f', 'g', 'h', 'i', 'j', 'k', 'l', 'm', 'n', 'o', 'p', 'q', 'r', 's', 't', 'u', 'v', 'w', 'x', 'y', 'z']\n"
     ]
    }
   ],
   "source": [
    "all_alpha =['s','r','q','p','o','e','c','j','n','m','i','h','g',\n",
    "            'z','w','v','b','l','u','t','f','d','k','a','y','x']\n",
    "print('Sotred Alphabets: ',sort_alphabets(all_alpha))"
   ]
  },
  {
   "cell_type": "markdown",
   "metadata": {},
   "source": [
    "**Complexity analysis:**\\\n",
    "\\\n",
    "Assuming we have a list of 26 alphabets in order, elemnts are alphabets and indices are positions. To get position of target alphabet it takes **O(n)** at the worst case, but to get alphabet by position it takes only **O(1)**.\\\n",
    "\\\n",
    "Converting the input list of **alphabets into INTEGERS** will cost O(n).O(log(n)) = **O(nlog(n))** where n=26. if the input list is random then the cost could be **O(n^2)** in the worst case of ['z', 'z', 'z', 'z'] for example.\\\n",
    "\\\n",
    "As mentioned before, cost of counting sort is **O(n+k)** where **k** is the max value in input list.\\\n",
    "\\\n",
    "Converting the sorted **INTEGERS list back to alphabets** costs O(n).O(1) = **O(n)**\\\n",
    "\\\n",
    "the whole procces cost is: **O(nlog(n)) + O(n+k) + O(n)**, approximately = **O(nlog(n)) + O(3n)** as k = n = 26"
   ]
  },
  {
   "cell_type": "markdown",
   "metadata": {},
   "source": [
    "# Words Sort"
   ]
  },
  {
   "cell_type": "markdown",
   "metadata": {},
   "source": [
    "List of words to be sorted:"
   ]
  },
  {
   "cell_type": "code",
   "execution_count": 9,
   "metadata": {},
   "outputs": [],
   "source": [
    "words=['hi' , 'at', 'hello', 'this','those', 'there', 'from']"
   ]
  },
  {
   "cell_type": "markdown",
   "metadata": {},
   "source": [
    "**words_mat()** functions takes the list of words and returns a matrix (m*n) of these words letters. m is number of words and n is the max word lenght in words."
   ]
  },
  {
   "cell_type": "code",
   "execution_count": 10,
   "metadata": {},
   "outputs": [],
   "source": [
    "def words_mat(words,n):\n",
    "    mat=[]\n",
    "    for i in words:\n",
    "        mat.append([j for j in list(i)])\n",
    "    for i in mat:\n",
    "        while len(i)<n: i.append('')\n",
    "    return mat"
   ]
  },
  {
   "cell_type": "code",
   "execution_count": 11,
   "metadata": {},
   "outputs": [],
   "source": [
    "words_matrix= words_mat(words,5)"
   ]
  },
  {
   "cell_type": "code",
   "execution_count": 12,
   "metadata": {},
   "outputs": [
    {
     "data": {
      "text/plain": [
       "[['h', 'i', '', '', ''],\n",
       " ['a', 't', '', '', ''],\n",
       " ['h', 'e', 'l', 'l', 'o'],\n",
       " ['t', 'h', 'i', 's', ''],\n",
       " ['t', 'h', 'o', 's', 'e'],\n",
       " ['t', 'h', 'e', 'r', 'e'],\n",
       " ['f', 'r', 'o', 'm', '']]"
      ]
     },
     "execution_count": 12,
     "metadata": {},
     "output_type": "execute_result"
    }
   ],
   "source": [
    "words_matrix"
   ]
  },
  {
   "cell_type": "code",
   "execution_count": 13,
   "metadata": {},
   "outputs": [],
   "source": [
    "def column(matrix, i): return [row[i] for row in matrix] #returns column by index"
   ]
  },
  {
   "cell_type": "code",
   "execution_count": 14,
   "metadata": {},
   "outputs": [
    {
     "data": {
      "text/plain": [
       "['h', 'a', 'h', 't', 't', 't', 'f']"
      ]
     },
     "execution_count": 14,
     "metadata": {},
     "output_type": "execute_result"
    }
   ],
   "source": [
    "column(words_matrix,0)"
   ]
  },
  {
   "cell_type": "markdown",
   "metadata": {},
   "source": [
    "**Sort() function works as the following:**\\\n",
    "1- sort all matrix with respect to the first column(index 0) **AND** keep the the rows which starting with same letter in one index as a list\\\n",
    "\\\n",
    "2- sort every index with length >1 with respect to the next column (index 1).\\\n",
    "**if:** the values of the column are not equal, split the sorted rows to diffrent indeces\\\n",
    "**else:** keep the block in one index and continue to the next columns\\\n",
    "\\\n",
    "3- when all indeces length equal to 1: stop"
   ]
  },
  {
   "cell_type": "markdown",
   "metadata": {},
   "source": [
    "![title](words_sort.jpg)"
   ]
  },
  {
   "cell_type": "code",
   "execution_count": 15,
   "metadata": {},
   "outputs": [],
   "source": [
    "def sort(words_mat, m, n, p):\n",
    "    if p==0:\n",
    "        col= column(words_mat, p)\n",
    "        sorted_col= sort_alphabets(col)\n",
    "        sorted_mat=[]\n",
    "        sorted_col_idx=[]\n",
    "        for i in sorted_col:\n",
    "            sorted_col_idx.append(([j for j, e in enumerate(col) if e == i]))\n",
    "        cleanidx = []\n",
    "        [cleanidx.append(x) for x in sorted_col_idx if x not in cleanidx]\n",
    "\n",
    "        for i in cleanidx:\n",
    "            sub=[]\n",
    "            for j in i:\n",
    "                sub.append(words_mat[j])\n",
    "            sorted_mat.append(sub)\n",
    "        words_mat=sorted_mat\n",
    "        print('column: '+str(p)+' , matrix:',sorted_mat)\n",
    "        return sort(sorted_mat, 9, 6, p+1)\n",
    "    else:\n",
    "        helper_mat= words_mat.copy()\n",
    "        sorted_col_idx2=[]\n",
    "        sub_idx=[j for j in range(len(words_mat)) if len(words_mat[j])>1]\n",
    "        for sub in sub_idx:\n",
    "            col2= column(words_mat[sub], p)\n",
    "            sorted_col2= sort_alphabets(col2)\n",
    "            if len(set(sorted_col2))==1: continue\n",
    "            for k in sorted_col2: \n",
    "                sorted_col_idx2.append(([j for j, e in enumerate(col2) if e == k]))\n",
    "            cleanidx2 = []\n",
    "            [cleanidx2.append(x) for x in sorted_col_idx2 if x not in cleanidx2]\n",
    "            sorted_sub=[]\n",
    "            for i_ in cleanidx2:\n",
    "                sorted_sub.append(words_mat[sub][i_[0]])\n",
    "            del helper_mat[sub]\n",
    "            for i_2 in sorted_sub:\n",
    "                helper_mat.insert(sub,[i_2])\n",
    "                sub+=1\n",
    "            print('column: '+str(p)+' , matrix:',helper_mat)\n",
    "            return sort(helper_mat, m, n, p+1)\n",
    "        return helper_mat"
   ]
  },
  {
   "cell_type": "code",
   "execution_count": 16,
   "metadata": {
    "scrolled": true
   },
   "outputs": [
    {
     "name": "stdout",
     "output_type": "stream",
     "text": [
      "column: 0 , matrix: [[['a', 't', '', '', '']], [['f', 'r', 'o', 'm', '']], [['h', 'i', '', '', ''], ['h', 'e', 'l', 'l', 'o']], [['t', 'h', 'i', 's', ''], ['t', 'h', 'o', 's', 'e'], ['t', 'h', 'e', 'r', 'e']]]\n",
      "column: 1 , matrix: [[['a', 't', '', '', '']], [['f', 'r', 'o', 'm', '']], [['h', 'e', 'l', 'l', 'o']], [['h', 'i', '', '', '']], [['t', 'h', 'i', 's', ''], ['t', 'h', 'o', 's', 'e'], ['t', 'h', 'e', 'r', 'e']]]\n",
      "column: 2 , matrix: [[['a', 't', '', '', '']], [['f', 'r', 'o', 'm', '']], [['h', 'e', 'l', 'l', 'o']], [['h', 'i', '', '', '']], [['t', 'h', 'e', 'r', 'e']], [['t', 'h', 'i', 's', '']], [['t', 'h', 'o', 's', 'e']]]\n",
      "Sorted words: \n",
      "at\n",
      "from\n",
      "hello\n",
      "hi\n",
      "there\n",
      "this\n",
      "those\n"
     ]
    }
   ],
   "source": [
    "result=sort(words_matrix, 7, 5, 0)\n",
    "print('Sorted words: ')\n",
    "for i in result:\n",
    "    print(''.join(i[0]))"
   ]
  },
  {
   "cell_type": "markdown",
   "metadata": {},
   "source": [
    "**Complexity analysis:**"
   ]
  },
  {
   "cell_type": "markdown",
   "metadata": {},
   "source": [
    "The complexity here is very high, to sort column it takes **O(nlog(n)) + O(3n)** like explained before. \n",
    "At the worst case here when sorting words, the complexity will goes to O(n).[O(nlog(n)) + O(3n)] = **O( n^2 . log(n) ) + O( 3 n^2 )**\n",
    "Therefore, this counting sort algorithm is not convenient to this problem at all. it's designed to sort integer values that are in a fixed range, so it can't be applied to sort strings in efficient way."
   ]
  },
  {
   "cell_type": "code",
   "execution_count": null,
   "metadata": {},
   "outputs": [],
   "source": [
    "\"MOAMEN\""
   ]
  }
 ],
 "metadata": {
  "kernelspec": {
   "display_name": "Python 3",
   "language": "python",
   "name": "python3"
  },
  "language_info": {
   "codemirror_mode": {
    "name": "ipython",
    "version": 3
   },
   "file_extension": ".py",
   "mimetype": "text/x-python",
   "name": "python",
   "nbconvert_exporter": "python",
   "pygments_lexer": "ipython3",
   "version": "3.7.3"
  }
 },
 "nbformat": 4,
 "nbformat_minor": 2
}
